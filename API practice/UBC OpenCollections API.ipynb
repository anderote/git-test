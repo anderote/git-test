{
 "cells": [
  {
   "cell_type": "code",
   "execution_count": 100,
   "metadata": {
    "collapsed": false,
    "scrolled": true
   },
   "outputs": [
    {
     "name": "stdout",
     "output_type": "stream",
     "text": [
      "\n",
      " Using item: https://open.library.ubc.ca/collections/darwin\n"
     ]
    }
   ],
   "source": [
    "# importing relevant libraries for accessing and parsing metadata from collections\n",
    "\n",
    "import json, requests\n",
    "\n",
    "# setting up access to oc\n",
    "\n",
    "ocUrl =  'https://open.library.ubc.ca/'\n",
    "ocApiUrl = 'https://oc-index.library.ubc.ca'\n",
    "\n",
    "# how to access api key without making it public, via stored txt file\n",
    "\n",
    "with open(\"apiKey.txt\", 'r') as f:\n",
    "    apiKey = f.read()\n",
    "    \n",
    "collection = 'darwin'\n",
    "    \n",
    "print ('\\n Using item: '+ocUrl + 'collections/'+collection)\n",
    "\n"
   ]
  },
  {
   "cell_type": "markdown",
   "metadata": {},
   "source": []
  },
  {
   "cell_type": "markdown",
   "metadata": {},
   "source": [
    "# Accessing individual items"
   ]
  },
  {
   "cell_type": "code",
   "execution_count": 101,
   "metadata": {
    "collapsed": false
   },
   "outputs": [],
   "source": [
    "# to access individual items we could do something like this:\n",
    "\n",
    "# this is itemId for some charles darwin letter to brosef\n",
    "itemId = '1.0000102'\n",
    "\n",
    "# this sets the item url to which to access\n",
    "itemUrl = ocApiUrl+'/collections/'+collection+'/items/'+itemId+'?apiKey='+apiKey\n",
    "\n",
    "# api generates a response, using the get method on requests, callling it in json format\n",
    "apiResponse = requests.get(itemUrl).json()\n",
    "\n",
    "# apiResponse has a 'data' field which we store in the object item. I suppose item has object type, 'data'\n",
    "item = apiResponse['data']\n",
    "\n",
    "# prints in json format all the key value pairs which the object has\n",
    "# print(json.dumps(item, sort_keys=True, indent=2, separators=(' ', ': ')))\n",
    "\n",
    "# print the fulltext, 'value' modifier just extracts the text of the letter and skips opening metadata\n",
    "fullText = item['FullText'][0]['value']\n"
   ]
  },
  {
   "cell_type": "code",
   "execution_count": 102,
   "metadata": {
    "collapsed": false,
    "scrolled": true
   },
   "outputs": [
    {
     "data": {
      "text/plain": [
       "{'api_code': 3000,\n",
       " 'api_text': 'Collection Endpoint: Detail [52966] | API Version: 1',\n",
       " 'data': {'description': '', 'items': 57, 'title': 'Undergraduate Research'},\n",
       " 'endpoint': 'GET: /collections/52966',\n",
       " 'http_code': 200,\n",
       " 'user_ip': '206.12.66.182'}"
      ]
     },
     "execution_count": 102,
     "metadata": {},
     "output_type": "execute_result"
    }
   ],
   "source": [
    "import json, requests, math, re, string, nltk\n",
    "\n",
    "# allow matplotlib to run in-line\n",
    "% matplotlib inline\n",
    "\n",
    "ocUrl = 'https://open.library.ubc.ca/'\n",
    "ocApiUrl = 'https://oc-index.library.ubc.ca' # APPY URL\n",
    "\n",
    "with open('apiKey.txt', 'r') as f:\n",
    "    apiKey = f.read()\n",
    "    \n",
    "collection = '52966'\n",
    "\n",
    "# Query the API for the collection information\n",
    "collectionUrl = ocApiUrl+'/collections/'+collection+'?api_key='+apiKey\n",
    "apiResponse = requests.get(collectionUrl).json()\n",
    "apiResponse"
   ]
  },
  {
   "cell_type": "markdown",
   "metadata": {},
   "source": [
    "Accessing collection data from the apiResponse object"
   ]
  },
  {
   "cell_type": "code",
   "execution_count": 103,
   "metadata": {
    "collapsed": false
   },
   "outputs": [],
   "source": [
    "# Get count of items in collection. apiResponse is really just metadata about\n",
    "# the collection, it doesnt contain the data on collection holdings invididual\n",
    "itemCount = apiResponse['data']['items']"
   ]
  },
  {
   "cell_type": "markdown",
   "metadata": {},
   "source": [
    "Getting and storing items from the collections using the API"
   ]
  },
  {
   "cell_type": "code",
   "execution_count": 104,
   "metadata": {
    "collapsed": false
   },
   "outputs": [
    {
     "name": "stdout",
     "output_type": "stream",
     "text": [
      "57\n"
     ]
    },
    {
     "ename": "TypeError",
     "evalue": "'NoneType' object is not iterable",
     "output_type": "error",
     "traceback": [
      "\u001b[1;31m---------------------------------------------------------------------------\u001b[0m",
      "\u001b[1;31mTypeError\u001b[0m                                 Traceback (most recent call last)",
      "\u001b[1;32m<ipython-input-104-a74619263322>\u001b[0m in \u001b[0;36m<module>\u001b[1;34m()\u001b[0m\n\u001b[0;32m     13\u001b[0m     \u001b[0mapiResponse_collection\u001b[0m \u001b[1;33m=\u001b[0m \u001b[0mrequests\u001b[0m\u001b[1;33m.\u001b[0m\u001b[0mget\u001b[0m\u001b[1;33m(\u001b[0m\u001b[0mcollectionItemsUrl\u001b[0m\u001b[1;33m)\u001b[0m\u001b[1;33m.\u001b[0m\u001b[0mjson\u001b[0m\u001b[1;33m(\u001b[0m\u001b[1;33m)\u001b[0m\u001b[1;33m\u001b[0m\u001b[0m\n\u001b[0;32m     14\u001b[0m     \u001b[0mcollectionItems\u001b[0m \u001b[1;33m=\u001b[0m \u001b[0mapiResponse_collection\u001b[0m\u001b[1;33m[\u001b[0m\u001b[1;34m'data'\u001b[0m\u001b[1;33m]\u001b[0m\u001b[1;33m\u001b[0m\u001b[0m\n\u001b[1;32m---> 15\u001b[1;33m     \u001b[1;32mfor\u001b[0m \u001b[0mitem\u001b[0m \u001b[1;32min\u001b[0m \u001b[0mcollectionItems\u001b[0m\u001b[1;33m:\u001b[0m\u001b[1;33m\u001b[0m\u001b[0m\n\u001b[0m\u001b[0;32m     16\u001b[0m         \u001b[0mitemIds\u001b[0m\u001b[1;33m.\u001b[0m\u001b[0mappend\u001b[0m\u001b[1;33m(\u001b[0m\u001b[0mitem\u001b[0m\u001b[1;33m[\u001b[0m\u001b[1;34m'_id'\u001b[0m\u001b[1;33m]\u001b[0m\u001b[1;33m)\u001b[0m\u001b[1;33m\u001b[0m\u001b[0m\n\u001b[0;32m     17\u001b[0m \u001b[1;33m\u001b[0m\u001b[0m\n",
      "\u001b[1;31mTypeError\u001b[0m: 'NoneType' object is not iterable"
     ]
    }
   ],
   "source": [
    "itemCount = apiResponse['data']['items']\n",
    "\n",
    "\n",
    "print(itemCount)\n",
    "\n",
    "# Loop through collection item pages to get all items\n",
    "itemIds = []\n",
    "for x in range(0, pages):\n",
    "    collectionItemsUrl = ocApiUrl+'/collections/'+collection\n",
    "    collectionItemsUrl += '/items?limit='+str(perPage)+'&offset='+str(offset)+'&api_key='+apiKey\n",
    "    offset += 25 \n",
    "    # Get list of 25 items\n",
    "    apiResponse_collection = requests.get(collectionItemsUrl).json()\n",
    "    collectionItems = apiResponse_collection['data']\n",
    "    for item in collectionItems:\n",
    "        itemIds.append(item['_id'])\n",
    "    \n",
    "print(itemIds)"
   ]
  },
  {
   "cell_type": "code",
   "execution_count": 1,
   "metadata": {
    "collapsed": false
   },
   "outputs": [
    {
     "ename": "NameError",
     "evalue": "name 'sys' is not defined",
     "output_type": "error",
     "traceback": [
      "\u001b[1;31m---------------------------------------------------------------------------\u001b[0m",
      "\u001b[1;31mNameError\u001b[0m                                 Traceback (most recent call last)",
      "\u001b[1;32m<ipython-input-1-e5f95d4f2e72>\u001b[0m in \u001b[0;36m<module>\u001b[1;34m()\u001b[0m\n\u001b[1;32m----> 1\u001b[1;33m \u001b[0mprint\u001b[0m\u001b[1;33m(\u001b[0m\u001b[0msys\u001b[0m\u001b[1;33m.\u001b[0m\u001b[0mpath\u001b[0m\u001b[1;33m)\u001b[0m\u001b[1;33m\u001b[0m\u001b[0m\n\u001b[0m",
      "\u001b[1;31mNameError\u001b[0m: name 'sys' is not defined"
     ]
    }
   ],
   "source": [
    "print(sys.path)"
   ]
  },
  {
   "cell_type": "code",
   "execution_count": null,
   "metadata": {
    "collapsed": true
   },
   "outputs": [],
   "source": []
  }
 ],
 "metadata": {
  "kernelspec": {
   "display_name": "Python 3",
   "language": "python",
   "name": "python3"
  },
  "language_info": {
   "codemirror_mode": {
    "name": "ipython",
    "version": 3
   },
   "file_extension": ".py",
   "mimetype": "text/x-python",
   "name": "python",
   "nbconvert_exporter": "python",
   "pygments_lexer": "ipython3",
   "version": "3.5.1"
  }
 },
 "nbformat": 4,
 "nbformat_minor": 0
}
